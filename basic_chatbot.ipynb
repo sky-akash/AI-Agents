{
 "cells": [
  {
   "cell_type": "code",
   "execution_count": 1,
   "id": "f020e4a1",
   "metadata": {},
   "outputs": [],
   "source": [
    "# just a basic chatbot \n",
    "# Start -> chat-node -> End"
   ]
  },
  {
   "cell_type": "code",
   "execution_count": 49,
   "metadata": {},
   "outputs": [],
   "source": [
    "from langgraph.graph import StateGraph, START, END\n",
    "from typing import TypedDict, Annotated\n",
    "\n",
    "from langchain_core.messages import BaseMessage, HumanMessage\n",
    "\n",
    "from langchain_google_genai import ChatGoogleGenerativeAI\n",
    "\n",
    "# import operator\n",
    "\n",
    "from langgraph.graph.message import add_messages\n",
    "\n",
    "from langgraph.checkpoint.memory import MemorySaver"
   ]
  },
  {
   "cell_type": "code",
   "execution_count": 7,
   "metadata": {},
   "outputs": [],
   "source": [
    "# defining state\n",
    "\n",
    "class ChatState(TypedDict):\n",
    "\n",
    "    messages: Annotated[list[BaseMessage], add_messages]      # better to keep basemessgae here\n",
    "    # also need reducer function so can concatenate all messages\n",
    "\n"
   ]
  },
  {
   "cell_type": "code",
   "execution_count": 12,
   "id": "529f1e28",
   "metadata": {},
   "outputs": [],
   "source": [
    "# Defining the functions used in chat_node\n",
    "\n",
    "llm = ChatGoogleGenerativeAI(model=\"gemini-2.5-flash\")\n",
    "\n",
    "def chat_node(state: ChatState):  # just defined the function name which takes in the state and returnst e state too\n",
    "\n",
    "    # take in the message input query\n",
    "    messages = state[\"messages\"]\n",
    "\n",
    "    #send to llm\n",
    "    response = llm.invoke(messages)\n",
    "\n",
    "    # response store in state\n",
    "    return {'messages' : [response]}\n",
    "\n"
   ]
  },
  {
   "cell_type": "code",
   "execution_count": null,
   "id": "7860357d",
   "metadata": {},
   "outputs": [],
   "source": []
  },
  {
   "cell_type": "code",
   "execution_count": 50,
   "metadata": {},
   "outputs": [
    {
     "data": {
      "image/png": "[encoded data removed]",
      "text/plain": [
       "<langgraph.graph.state.CompiledStateGraph object at 0x0000012925147050>"
      ]
     },
     "execution_count": 50,
     "metadata": {},
     "output_type": "execute_result"
    }
   ],
   "source": [
    "# a checkpointer for persistence\n",
    "\n",
    "checkpointer = MemorySaver()\n",
    "\n",
    "graph = StateGraph(ChatState)\n",
    "\n",
    "# add node\n",
    "graph.add_node('chat_node', chat_node)\n",
    "\n",
    "# add edge\n",
    "\n",
    "graph.add_edge(START, 'chat_node')\n",
    "graph.add_edge('chat_node', END)\n",
    "\n",
    "chatbot = graph.compile(checkpointer=checkpointer) # checkpointer for persistence\n",
    "\n",
    "chatbot"
   ]
  },
  {
   "cell_type": "code",
   "execution_count": null,
   "id": "2009d282",
   "metadata": {},
   "outputs": [],
   "source": [
    "initial_state = {\n",
    "    'messages' : [HumanMessage(content = \"Capital of India\")]\n",
    "}\n",
    "\n",
    "result = chatbot.invoke(initial_state)"
   ]
  },
  {
   "cell_type": "code",
   "execution_count": 25,
   "id": "02014265",
   "metadata": {},
   "outputs": [
    {
     "data": {
      "text/plain": [
       "{'messages': [HumanMessage(content='CApital of India', additional_kwargs={}, response_metadata={}, id='2db514d4-a828-4664-a775-e8cf4db4c856'),\n",
       "  AIMessage(content='The capital of India is **New Delhi**.', additional_kwargs={}, response_metadata={'prompt_feedback': {'block_reason': 0, 'safety_ratings': []}, 'finish_reason': 'STOP', 'model_name': 'gemini-2.5-flash', 'safety_ratings': []}, id='run--537c959a-ff2d-4133-bc94-6ac76c82313a-0', usage_metadata={'input_tokens': 5, 'output_tokens': 26, 'total_tokens': 31, 'input_token_details': {'cache_read': 0}, 'output_token_details': {'reasoning': 17}})]}"
      ]
     },
     "execution_count": 25,
     "metadata": {},
     "output_type": "execute_result"
    }
   ],
   "source": [
    "result"
   ]
  },
  {
   "cell_type": "code",
   "execution_count": 24,
   "id": "b6e8aa43",
   "metadata": {},
   "outputs": [
    {
     "data": {
      "text/plain": [
       "dict"
      ]
     },
     "execution_count": 24,
     "metadata": {},
     "output_type": "execute_result"
    }
   ],
   "source": [
    "type(result)"
   ]
  },
  {
   "cell_type": "code",
   "execution_count": 32,
   "id": "c6e4a8aa",
   "metadata": {},
   "outputs": [
    {
     "name": "stdout",
     "output_type": "stream",
     "text": [
      "dict_keys(['messages'])\n"
     ]
    }
   ],
   "source": [
    "print(result.keys())"
   ]
  },
  {
   "cell_type": "code",
   "execution_count": 34,
   "id": "7a191e7e",
   "metadata": {},
   "outputs": [
    {
     "data": {
      "text/plain": [
       "list"
      ]
     },
     "execution_count": 34,
     "metadata": {},
     "output_type": "execute_result"
    }
   ],
   "source": [
    "result['messages']\n",
    "type(result['messages'])"
   ]
  },
  {
   "cell_type": "code",
   "execution_count": 35,
   "id": "6671faf4",
   "metadata": {},
   "outputs": [
    {
     "data": {
      "text/plain": [
       "2"
      ]
     },
     "execution_count": 35,
     "metadata": {},
     "output_type": "execute_result"
    }
   ],
   "source": [
    "len(result['messages'])"
   ]
  },
  {
   "cell_type": "code",
   "execution_count": 36,
   "id": "37de9ab0",
   "metadata": {},
   "outputs": [
    {
     "data": {
      "text/plain": [
       "HumanMessage(content='CApital of India', additional_kwargs={}, response_metadata={}, id='2db514d4-a828-4664-a775-e8cf4db4c856')"
      ]
     },
     "execution_count": 36,
     "metadata": {},
     "output_type": "execute_result"
    }
   ],
   "source": [
    "result['messages'][0]"
   ]
  },
  {
   "cell_type": "code",
   "execution_count": 40,
   "id": "fa6bb928",
   "metadata": {},
   "outputs": [
    {
     "name": "stdout",
     "output_type": "stream",
     "text": [
      "<class 'langchain_core.messages.ai.AIMessage'>\n"
     ]
    },
    {
     "data": {
      "text/plain": [
       "AIMessage(content='The capital of India is **New Delhi**.', additional_kwargs={}, response_metadata={'prompt_feedback': {'block_reason': 0, 'safety_ratings': []}, 'finish_reason': 'STOP', 'model_name': 'gemini-2.5-flash', 'safety_ratings': []}, id='run--537c959a-ff2d-4133-bc94-6ac76c82313a-0', usage_metadata={'input_tokens': 5, 'output_tokens': 26, 'total_tokens': 31, 'input_token_details': {'cache_read': 0}, 'output_token_details': {'reasoning': 17}})"
      ]
     },
     "execution_count": 40,
     "metadata": {},
     "output_type": "execute_result"
    }
   ],
   "source": [
    "print(type(result['messages'][1]))\n",
    "result['messages'][1]"
   ]
  },
  {
   "cell_type": "code",
   "execution_count": 41,
   "id": "a7230d92",
   "metadata": {},
   "outputs": [
    {
     "data": {
      "text/plain": [
       "'The capital of India is **New Delhi**.'"
      ]
     },
     "execution_count": 41,
     "metadata": {},
     "output_type": "execute_result"
    }
   ],
   "source": [
    "result['messages'][1].content"
   ]
  },
  {
   "cell_type": "code",
   "execution_count": 23,
   "metadata": {},
   "outputs": [
    {
     "data": {
      "text/plain": [
       "'The capital of India is **New Delhi**.'"
      ]
     },
     "execution_count": 23,
     "metadata": {},
     "output_type": "execute_result"
    }
   ],
   "source": [
    "result['messages'][-1].content"
   ]
  },
  {
   "cell_type": "code",
   "execution_count": null,
   "id": "34cefb43",
   "metadata": {},
   "outputs": [],
   "source": [
    "# just a simple question answer till now"
   ]
  },
  {
   "cell_type": "code",
   "execution_count": 46,
   "id": "8419be2f",
   "metadata": {},
   "outputs": [],
   "source": [
    "# # So now let's do it in loop\n",
    "\n",
    "\n",
    "# while True:\n",
    "\n",
    "#     user_message = input('Type Here : ')\n",
    "\n",
    "#     if user_message.strip().lower() in ['exit', 'quit', 'bye']:\n",
    "#         break\n",
    "#     response = chatbot.invoke({'messages': [HumanMessage(content = user_message)]})\n",
    "\n",
    "#     print(\"AI: \", response['messages'][-1].content)\n",
    "\n",
    "# here we have are invoking everyting for the loop, so no previous memory of states"
   ]
  },
  {
   "cell_type": "code",
   "execution_count": null,
   "id": "7bec2f52",
   "metadata": {},
   "outputs": [],
   "source": []
  },
  {
   "cell_type": "code",
   "execution_count": 52,
   "id": "914400de",
   "metadata": {},
   "outputs": [
    {
     "name": "stdout",
     "output_type": "stream",
     "text": [
      "AI:  Ciao Akash! Piacere.\n",
      "AI:  Sto bene, grazie! Come intelligenza artificiale, non ho sentimenti o stati d'animo come gli esseri umani, ma sono qui e pronto ad aiutarti.\n",
      "\n",
      "E tu, come stai?\n",
      "AI:  Ottimo obiettivo, Akash! Passare l'esame A2 di italiano entro il 20 settembre è un traguardo ambizioso ma assolutamente realizzabile con dedizione e la giusta strategia. Hai circa 3 mesi e mezzo, che sono sufficienti per consolidare le basi e affrontare l'esame.\n",
      "\n",
      "Ecco una strategia dettagliata per aiutarti:\n",
      "\n",
      "### 1. Comprendere il Livello A2\n",
      "\n",
      "Il livello A2 (elementare) secondo il Quadro Comune Europeo di Riferimento per le Lingue (QCER) significa che dovresti essere in grado di:\n",
      "\n",
      "*   **Capire** frasi ed espressioni di uso frequente relative a settori di pertinenza più immediata (es. informazioni personali e familiari di base, acquisti, geografia locale, lavoro).\n",
      "*   **Comunicare** in situazioni semplici e di routine che richiedano solo uno scambio di informazioni semplice e diretto su argomenti familiari e abituali.\n",
      "*   **Descrivere** in termini semplici aspetti del tuo background, dell'ambiente circostante e di questioni relative a bisogni immediati.\n",
      "\n",
      "### 2. Aree Chiave su Cui Concentrarsi\n",
      "\n",
      "**a) Grammatica (Fondamentale per A2):**\n",
      "\n",
      "*   **Passato Prossimo:** Essenziale! Devi padroneggiarlo con tutti i verbi (regolari e irregolari), e capire quando usare \"essere\" o \"avere\" come ausiliare.\n",
      "*   **Imperfetto:** Introduzione e uso di base (per descrivere abitudini passate, stati d'animo, contesti).\n",
      "*   **Futuro Semplice:** Formazione e uso di base per fare piani.\n",
      "*   **Pronomi Diretti e Indiretti:** (lo, la, li, le, mi, ti, gli, le, ci, vi). Spesso combinati (es. \"me lo dai?\").\n",
      "*   **Verbi Riflessivi:** (lavarsi, vestirsi, ecc.).\n",
      "*   **Preposizioni:** (di, a, da, in, con, su, per, tra, fra). Sono spesso la parte più difficile, ma fondamentali.\n",
      "*   **Comparativi e Superlativi:** (più... di, meno... di, il più... di).\n",
      "*   **Verbi modali:** (potere, volere, dovere).\n",
      "*   **Congiunzioni semplici:** (e, ma, o, perché, quindi, quando, se).\n",
      "\n",
      "**b) Vocabolario:**\n",
      "\n",
      "*   **Vita quotidiana:** Casa, famiglia, lavoro, studio, tempo libero, sport, hobbies.\n",
      "*   **Cibo e bevande:** Ordinare al ristorante, fare la spesa.\n",
      "*   **Viaggi e trasporti:** Chiedere indicazioni, prenotare.\n",
      "*   **Salute e benessere:** Descrivere sintomi semplici, parlare del proprio stato di salute.\n",
      "*   **Descrizioni:** Persone, luoghi, oggetti (aggettivi comuni).\n",
      "*   **Numeri, date, orari, colori, stagioni.**\n",
      "\n",
      "### 3. Strategie di Studio per Ogni Abilità\n",
      "\n",
      "**a) Ascolto (Comprensione Orale):**\n",
      "\n",
      "*   **Podcast per principianti:** Cerca \"News in Slow Italian\" o \"Italiano Automatico\" (hanno spesso sezioni per principianti).\n",
      "*   **YouTube:** Canali come \"Learn Italian with Lucrezia,\" \"Easy Italian\" (interviste per strada con sottotitoli).\n",
      "*   **Musica italiana:** Ascolta canzoni con i testi e prova a capire le parole.\n",
      "*   **Ascolta attivamente:** Non solo passivamente. Prova a capire il contesto generale, poi i dettagli.\n",
      "\n",
      "**b) Lettura (Comprensione Scritta):**\n",
      "\n",
      "*   **Testi semplici:** Articoli di giornale semplificati, blog per studenti di italiano, brevi storie per principianti (graded readers).\n",
      "*   **Messaggi e e-mail:** Esercitati a leggere e capire messaggi e-mail semplici.\n",
      "*   **Non fermarti ad ogni parola:** Prova a capire il significato dal contesto. Usa il dizionario solo per le parole chiave.\n",
      "\n",
      "**c) Parlato (Produzione Orale e Interazione):**\n",
      "\n",
      "*   **Parla con te stesso:** Descrivi la tua giornata, i tuoi piani, quello che vedi intorno a te in italiano.\n",
      "*   **Trova un partner linguistico:** Piattaforme come iTalki, Tandem, HelloTalk ti permettono di trovare madrelingua italiani per conversare (spesso gratuitamente in cambio della tua lingua).\n",
      "*   **Lezioni con un tutor:** Se possibile, investi in qualche lezione con un insegnante qualificato. Ti darà feedback personalizzato.\n",
      "*   **Role-playing:** Immagina situazioni comuni (fare shopping, ordinare, chiedere indicazioni) e prova a formulare le frasi.\n",
      "\n",
      "**d) Scritto (Produzione Scritta):**\n",
      "\n",
      "*   **Scrivi un diario:** Ogni giorno, scrivi 5-10 frasi su quello che hai fatto, i tuoi piani, i tuoi pensieri.\n",
      "*   **E-mail semplici:** Esercitati a scrivere email per invitare qualcuno, chiedere informazioni, ringraziare.\n",
      "*   **Descrizioni:** Descrivi la tua casa, la tua famiglia, il tuo lavoro.\n",
      "*   **Utilizza la grammatica che conosci:** Non cercare di usare strutture troppo complesse se non le padroneggi. Meglio semplice e corretto.\n",
      "\n",
      "### 4. Risorse Consigliate\n",
      "\n",
      "*   **Libri di testo A2:** \"Nuovo Espresso 2,\" \"Affresco Italiano A2,\" \"Un Giorno in Italia A2.\" Scegli un libro e seguilo metodicamente.\n",
      "*   **Esercizi online:** Molti siti offrono esercizi gratuiti per livello A2 (cerca \"esercizi italiano A2 grammatica\").\n",
      "*   **App:** Duolingo (come integrazione, non come unica risorsa), Memrise, Anki (per flashcards di vocabolario).\n",
      "*   **Canali YouTube:** \"Learn Italian with Lucrezia,\" \"Italiano Automatico,\" \"Easy Italian.\"\n",
      "*   **Podcast:** \"News in Slow Italian,\" \"Italiano per Stranieri.\"\n",
      "*   **Dizionario online:** WordReference.com è ottimo per traduzioni e contesti.\n",
      "\n",
      "### 5. Programma di Studio (Esempio)\n",
      "\n",
      "**Ogni giorno:**\n",
      "\n",
      "*   **15-20 minuti:** Revisione vocabolario (flashcards) e/o grammatica (esercizi rapidi).\n",
      "*   **15-20 minuti:** Ascolto (podcast, YouTube, musica).\n",
      "*   **15-20 minuti:** Produzione (parla con te stesso, scrivi un breve paragrafo nel diario).\n",
      "\n",
      "**2-3 volte a settimana (sessioni più lunghe):**\n",
      "\n",
      "*   **1-1.5 ore:** Sessione di studio più approfondita su un argomento grammaticale specifico con esercizi dal libro di testo.\n",
      "*   **30-60 minuti:** Sessione di conversazione con un partner o tutor.\n",
      "*   **30-45 minuti:** Lettura di un testo A2, con successiva analisi e comprensione.\n",
      "\n",
      "**Settimanalmente:**\n",
      "\n",
      "*   **Simulazioni d'esame:** Cerca esempi di esami A2 online (CILS A2, CELI A2, PLIDA A2) e prova a farne uno per familiarizzare con il formato e la gestione del tempo.\n",
      "\n",
      "### 6. Consigli Aggiuntivi\n",
      "\n",
      "*   **Consistenza è chiave:** Meglio studiare 30-60 minuti ogni giorno che 4 ore una volta a settimana.\n",
      "*   **Immersione:** Cambia la lingua del tuo telefono in italiano, etichetta oggetti in casa con il loro nome italiano.\n",
      "*   **Non aver paura di sbagliare:** Gli errori sono parte del processo di apprendimento.\n",
      "*   **Festa i piccoli successi:** Ogni volta che capisci qualcosa di nuovo o riesci a esprimerti meglio, riconosci il tuo progresso!\n",
      "\n",
      "È un percorso intenso ma incredibilmente gratificante. Con un buon piano e tanta motivazione, ce la farai!\n",
      "\n",
      "In bocca al lupo, Akash! Se hai altre domande o hai bisogno di aiuto su argomenti specifici, chiedi pure.\n"
     ]
    }
   ],
   "source": [
    "# So now let's do it in loop + with persistence\n",
    "\n",
    "# store in databse    OR \n",
    "# store in RAM\n",
    "\n",
    "# need a thread with chatbot for persistence\n",
    "thread_id = '1'\n",
    "\n",
    "while True:\n",
    "\n",
    "    user_message = input('Type Here : ')\n",
    "\n",
    "    if user_message.strip().lower() in ['exit', 'quit', 'bye']:\n",
    "        break\n",
    "\n",
    "    config = {'configurable' : {'thread_id' : thread_id}}\n",
    "\n",
    "    response = chatbot.invoke({'messages': [HumanMessage(content = user_message)]},\n",
    "                              config = config)\n",
    "    # need a thread with chatbot for persistence\n",
    "\n",
    "    print(\"AI: \", response['messages'][-1].content)"
   ]
  },
  {
   "cell_type": "code",
   "execution_count": 54,
   "id": "d5ade1a8",
   "metadata": {},
   "outputs": [
    {
     "data": {
      "text/plain": [
       "StateSnapshot(values={'messages': [HumanMessage(content='ciao mi chiamo akash', additional_kwargs={}, response_metadata={}, id='14c03c7a-933e-41ef-8cb3-9145c4b5c18d'), AIMessage(content='Ciao Akash! Piacere.', additional_kwargs={}, response_metadata={'prompt_feedback': {'block_reason': 0, 'safety_ratings': []}, 'finish_reason': 'STOP', 'model_name': 'gemini-2.5-flash', 'safety_ratings': []}, id='run--7be503e8-cc26-447f-8c87-7025021b5d4f-0', usage_metadata={'input_tokens': 8, 'output_tokens': 255, 'total_tokens': 263, 'input_token_details': {'cache_read': 0}, 'output_token_details': {'reasoning': 248}}), HumanMessage(content='come stai ?', additional_kwargs={}, response_metadata={}, id='acee438d-26eb-486c-99b9-3a575b65f3c9'), AIMessage(content=\"Sto bene, grazie! Come intelligenza artificiale, non ho sentimenti o stati d'animo come gli esseri umani, ma sono qui e pronto ad aiutarti.\\n\\nE tu, come stai?\", additional_kwargs={}, response_metadata={'prompt_feedback': {'block_reason': 0, 'safety_ratings': []}, 'finish_reason': 'STOP', 'model_name': 'gemini-2.5-flash', 'safety_ratings': []}, id='run--f8f6e4c0-60ad-4d7e-82c3-2f750fc0cb01-0', usage_metadata={'input_tokens': 20, 'output_tokens': 382, 'total_tokens': 402, 'input_token_details': {'cache_read': 0}, 'output_token_details': {'reasoning': 338}}), HumanMessage(content='Si bene, I have to learn and pass Italian A2 exam by September 20', additional_kwargs={}, response_metadata={}, id='55faeefa-0eb2-424b-8192-7a0773b4dff2'), AIMessage(content='Ottimo obiettivo, Akash! Passare l\\'esame A2 di italiano entro il 20 settembre è un traguardo ambizioso ma assolutamente realizzabile con dedizione e la giusta strategia. Hai circa 3 mesi e mezzo, che sono sufficienti per consolidare le basi e affrontare l\\'esame.\\n\\nEcco una strategia dettagliata per aiutarti:\\n\\n### 1. Comprendere il Livello A2\\n\\nIl livello A2 (elementare) secondo il Quadro Comune Europeo di Riferimento per le Lingue (QCER) significa che dovresti essere in grado di:\\n\\n*   **Capire** frasi ed espressioni di uso frequente relative a settori di pertinenza più immediata (es. informazioni personali e familiari di base, acquisti, geografia locale, lavoro).\\n*   **Comunicare** in situazioni semplici e di routine che richiedano solo uno scambio di informazioni semplice e diretto su argomenti familiari e abituali.\\n*   **Descrivere** in termini semplici aspetti del tuo background, dell\\'ambiente circostante e di questioni relative a bisogni immediati.\\n\\n### 2. Aree Chiave su Cui Concentrarsi\\n\\n**a) Grammatica (Fondamentale per A2):**\\n\\n*   **Passato Prossimo:** Essenziale! Devi padroneggiarlo con tutti i verbi (regolari e irregolari), e capire quando usare \"essere\" o \"avere\" come ausiliare.\\n*   **Imperfetto:** Introduzione e uso di base (per descrivere abitudini passate, stati d\\'animo, contesti).\\n*   **Futuro Semplice:** Formazione e uso di base per fare piani.\\n*   **Pronomi Diretti e Indiretti:** (lo, la, li, le, mi, ti, gli, le, ci, vi). Spesso combinati (es. \"me lo dai?\").\\n*   **Verbi Riflessivi:** (lavarsi, vestirsi, ecc.).\\n*   **Preposizioni:** (di, a, da, in, con, su, per, tra, fra). Sono spesso la parte più difficile, ma fondamentali.\\n*   **Comparativi e Superlativi:** (più... di, meno... di, il più... di).\\n*   **Verbi modali:** (potere, volere, dovere).\\n*   **Congiunzioni semplici:** (e, ma, o, perché, quindi, quando, se).\\n\\n**b) Vocabolario:**\\n\\n*   **Vita quotidiana:** Casa, famiglia, lavoro, studio, tempo libero, sport, hobbies.\\n*   **Cibo e bevande:** Ordinare al ristorante, fare la spesa.\\n*   **Viaggi e trasporti:** Chiedere indicazioni, prenotare.\\n*   **Salute e benessere:** Descrivere sintomi semplici, parlare del proprio stato di salute.\\n*   **Descrizioni:** Persone, luoghi, oggetti (aggettivi comuni).\\n*   **Numeri, date, orari, colori, stagioni.**\\n\\n### 3. Strategie di Studio per Ogni Abilità\\n\\n**a) Ascolto (Comprensione Orale):**\\n\\n*   **Podcast per principianti:** Cerca \"News in Slow Italian\" o \"Italiano Automatico\" (hanno spesso sezioni per principianti).\\n*   **YouTube:** Canali come \"Learn Italian with Lucrezia,\" \"Easy Italian\" (interviste per strada con sottotitoli).\\n*   **Musica italiana:** Ascolta canzoni con i testi e prova a capire le parole.\\n*   **Ascolta attivamente:** Non solo passivamente. Prova a capire il contesto generale, poi i dettagli.\\n\\n**b) Lettura (Comprensione Scritta):**\\n\\n*   **Testi semplici:** Articoli di giornale semplificati, blog per studenti di italiano, brevi storie per principianti (graded readers).\\n*   **Messaggi e e-mail:** Esercitati a leggere e capire messaggi e-mail semplici.\\n*   **Non fermarti ad ogni parola:** Prova a capire il significato dal contesto. Usa il dizionario solo per le parole chiave.\\n\\n**c) Parlato (Produzione Orale e Interazione):**\\n\\n*   **Parla con te stesso:** Descrivi la tua giornata, i tuoi piani, quello che vedi intorno a te in italiano.\\n*   **Trova un partner linguistico:** Piattaforme come iTalki, Tandem, HelloTalk ti permettono di trovare madrelingua italiani per conversare (spesso gratuitamente in cambio della tua lingua).\\n*   **Lezioni con un tutor:** Se possibile, investi in qualche lezione con un insegnante qualificato. Ti darà feedback personalizzato.\\n*   **Role-playing:** Immagina situazioni comuni (fare shopping, ordinare, chiedere indicazioni) e prova a formulare le frasi.\\n\\n**d) Scritto (Produzione Scritta):**\\n\\n*   **Scrivi un diario:** Ogni giorno, scrivi 5-10 frasi su quello che hai fatto, i tuoi piani, i tuoi pensieri.\\n*   **E-mail semplici:** Esercitati a scrivere email per invitare qualcuno, chiedere informazioni, ringraziare.\\n*   **Descrizioni:** Descrivi la tua casa, la tua famiglia, il tuo lavoro.\\n*   **Utilizza la grammatica che conosci:** Non cercare di usare strutture troppo complesse se non le padroneggi. Meglio semplice e corretto.\\n\\n### 4. Risorse Consigliate\\n\\n*   **Libri di testo A2:** \"Nuovo Espresso 2,\" \"Affresco Italiano A2,\" \"Un Giorno in Italia A2.\" Scegli un libro e seguilo metodicamente.\\n*   **Esercizi online:** Molti siti offrono esercizi gratuiti per livello A2 (cerca \"esercizi italiano A2 grammatica\").\\n*   **App:** Duolingo (come integrazione, non come unica risorsa), Memrise, Anki (per flashcards di vocabolario).\\n*   **Canali YouTube:** \"Learn Italian with Lucrezia,\" \"Italiano Automatico,\" \"Easy Italian.\"\\n*   **Podcast:** \"News in Slow Italian,\" \"Italiano per Stranieri.\"\\n*   **Dizionario online:** WordReference.com è ottimo per traduzioni e contesti.\\n\\n### 5. Programma di Studio (Esempio)\\n\\n**Ogni giorno:**\\n\\n*   **15-20 minuti:** Revisione vocabolario (flashcards) e/o grammatica (esercizi rapidi).\\n*   **15-20 minuti:** Ascolto (podcast, YouTube, musica).\\n*   **15-20 minuti:** Produzione (parla con te stesso, scrivi un breve paragrafo nel diario).\\n\\n**2-3 volte a settimana (sessioni più lunghe):**\\n\\n*   **1-1.5 ore:** Sessione di studio più approfondita su un argomento grammaticale specifico con esercizi dal libro di testo.\\n*   **30-60 minuti:** Sessione di conversazione con un partner o tutor.\\n*   **30-45 minuti:** Lettura di un testo A2, con successiva analisi e comprensione.\\n\\n**Settimanalmente:**\\n\\n*   **Simulazioni d\\'esame:** Cerca esempi di esami A2 online (CILS A2, CELI A2, PLIDA A2) e prova a farne uno per familiarizzare con il formato e la gestione del tempo.\\n\\n### 6. Consigli Aggiuntivi\\n\\n*   **Consistenza è chiave:** Meglio studiare 30-60 minuti ogni giorno che 4 ore una volta a settimana.\\n*   **Immersione:** Cambia la lingua del tuo telefono in italiano, etichetta oggetti in casa con il loro nome italiano.\\n*   **Non aver paura di sbagliare:** Gli errori sono parte del processo di apprendimento.\\n*   **Festa i piccoli successi:** Ogni volta che capisci qualcosa di nuovo o riesci a esprimerti meglio, riconosci il tuo progresso!\\n\\nÈ un percorso intenso ma incredibilmente gratificante. Con un buon piano e tanta motivazione, ce la farai!\\n\\nIn bocca al lupo, Akash! Se hai altre domande o hai bisogno di aiuto su argomenti specifici, chiedi pure.', additional_kwargs={}, response_metadata={'prompt_feedback': {'block_reason': 0, 'safety_ratings': []}, 'finish_reason': 'STOP', 'model_name': 'gemini-2.5-flash', 'safety_ratings': []}, id='run--45b8406b-7ca6-4a3f-893e-09ed6a4bab66-0', usage_metadata={'input_tokens': 84, 'output_tokens': 3346, 'total_tokens': 3430, 'input_token_details': {'cache_read': 0}, 'output_token_details': {'reasoning': 1511}})]}, next=(), config={'configurable': {'thread_id': '1', 'checkpoint_ns': '', 'checkpoint_id': '1f07d022-9db6-6cc3-8007-b67b0ded4a2b'}}, metadata={'source': 'loop', 'step': 7, 'parents': {}}, created_at='2025-08-19T13:41:09.413805+00:00', parent_config={'configurable': {'thread_id': '1', 'checkpoint_ns': '', 'checkpoint_id': '1f07d021-d868-650f-8006-1e3daaab8721'}}, tasks=(), interrupts=())"
      ]
     },
     "execution_count": 54,
     "metadata": {},
     "output_type": "execute_result"
    }
   ],
   "source": [
    "chatbot.get_state(config = config)"
   ]
  },
  {
   "cell_type": "code",
   "execution_count": 45,
   "metadata": {},
   "outputs": [],
   "source": [
    "# but there is no memory of past conversations here"
   ]
  },
  {
   "cell_type": "code",
   "execution_count": null,
   "id": "25318fe9",
   "metadata": {},
   "outputs": [],
   "source": []
  },
  {
   "cell_type": "code",
   "execution_count": null,
   "id": "481c6101",
   "metadata": {},
   "outputs": [],
   "source": []
  },
  {
   "cell_type": "code",
   "execution_count": null,
   "id": "d5863562",
   "metadata": {},
   "outputs": [],
   "source": []
  },
  {
   "cell_type": "code",
   "execution_count": null,
   "id": "09c1c588",
   "metadata": {},
   "outputs": [],
   "source": []
  },
  {
   "cell_type": "code",
   "execution_count": null,
   "id": "0ffeae8a",
   "metadata": {},
   "outputs": [],
   "source": []
  }
 ],
 "metadata": {
  "kernelspec": {
   "display_name": "langraph",
   "language": "python",
   "name": "python3"
  },
  "language_info": {
   "codemirror_mode": {
    "name": "ipython",
    "version": 3
   },
   "file_extension": ".py",
   "mimetype": "text/x-python",
   "name": "python",
   "nbconvert_exporter": "python",
   "pygments_lexer": "ipython3",
   "version": "3.11.9"
  }
 },
 "nbformat": 4,
 "nbformat_minor": 5
}
