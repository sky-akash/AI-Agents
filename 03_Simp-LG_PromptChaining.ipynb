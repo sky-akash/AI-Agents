{
 "cells": [
  {
   "cell_type": "code",
   "execution_count": null,
   "id": "9b265856",
   "metadata": {},
   "outputs": [],
   "source": [
    "# Prompt Chaining              - Blog Generation\n",
    "\n",
    "# Topic -> LLM (Generate Outline)  -> LLM Generate Blog (use Topic + OUtline) -> Blog\n",
    "# Start - gen_outline -> gen_blog -> End\n",
    "# \n",
    "# States > topic + outline + blog "
   ]
  },
  {
   "cell_type": "code",
   "execution_count": 1,
   "id": "cf35a6f2",
   "metadata": {},
   "outputs": [],
   "source": [
    "from langgraph.graph import StateGraph, START, END\n",
    "from langchain_openai import ChatOpenAI\n",
    "from langchain_google_genai import ChatGoogleGenerativeAI\n",
    "from langchain.chat_models import init_chat_model\n",
    "\n",
    "from typing import TypedDict\n",
    "from dotenv import load_dotenv"
   ]
  },
  {
   "cell_type": "code",
   "execution_count": null,
   "id": "6b3396bf",
   "metadata": {},
   "outputs": [],
   "source": [
    "load_dotenv()"
   ]
  },
  {
   "cell_type": "code",
   "execution_count": 4,
   "id": "c7551c93",
   "metadata": {},
   "outputs": [],
   "source": [
    "model = init_chat_model(\"gemini-2.5-flash\",\n",
    "                         model_provider=\"google_genai\")"
   ]
  },
  {
   "cell_type": "code",
   "execution_count": 22,
   "id": "fb1eddb4",
   "metadata": {},
   "outputs": [],
   "source": [
    "# creating the State\n",
    "\n",
    "class BlogState(TypedDict):\n",
    "    title: str\n",
    "    outline: str\n",
    "    content: str\n",
    "    evaluation_score: str"
   ]
  },
  {
   "cell_type": "code",
   "execution_count": 7,
   "id": "1a513956",
   "metadata": {},
   "outputs": [],
   "source": [
    "def create_outline(state: BlogState) -> BlogState:\n",
    "\n",
    "    # fetch Title\n",
    "    title = state['title']\n",
    "\n",
    "    # call llm to gen outline\n",
    "    prompt = f\"Generate a kids and elderly friendly outline for a blog on this title - {title}\"\n",
    "    outline = model.invoke(prompt).content\n",
    "\n",
    "    # update state\n",
    "    state['outline'] = outline\n",
    "\n",
    "    return state"
   ]
  },
  {
   "cell_type": "code",
   "execution_count": 9,
   "id": "18358960",
   "metadata": {},
   "outputs": [],
   "source": [
    "def create_blog(state: BlogState) -> BlogState:\n",
    "    title = state['title']\n",
    "    outline = state['outline']\n",
    "\n",
    "    prompt = f\"Write Detailed Blog for {title} using the generated outline {outline}\"\n",
    "\n",
    "    content = model.invoke(prompt).content\n",
    "    \n",
    "    state['content'] = content\n",
    "\n",
    "    return state"
   ]
  },
  {
   "cell_type": "code",
   "execution_count": 32,
   "id": "84dbb59d",
   "metadata": {},
   "outputs": [],
   "source": [
    "def evaluate_blog(state: BlogState) -> BlogState:\n",
    "    title = state['title']\n",
    "    outline = state['outline']\n",
    "    content = state['content']\n",
    "\n",
    "    prompt = f\"Give a numerical score form 1 to 10 to by blog {content} based on title {title} and outline {outline}.\"\n",
    "\n",
    "    evaluate_blog = model.invoke(prompt)\n",
    "\n",
    "    state['evaluation_score'] = evaluate_blog\n",
    "\n",
    "    return state"
   ]
  },
  {
   "cell_type": "code",
   "execution_count": 34,
   "id": "73152a95",
   "metadata": {},
   "outputs": [
    {
     "data": {
      "image/png": "[encoded data removed]",
      "text/plain": [
       "<langgraph.graph.state.CompiledStateGraph object at 0x000001B1BF82D950>"
      ]
     },
     "execution_count": 34,
     "metadata": {},
     "output_type": "execute_result"
    }
   ],
   "source": [
    "graph = StateGraph(BlogState)\n",
    "\n",
    "# nodes\n",
    "graph.add_node('create_outline', create_outline)\n",
    "graph.add_node('create_blog', create_blog)\n",
    "graph.add_node('evaluation_score', evaluate_blog)\n",
    "\n",
    "# edges\n",
    "graph.add_edge(START, 'create_outline')\n",
    "graph.add_edge('create_outline', 'create_blog')\n",
    "graph.add_edge('create_blog', 'evaluation_score')\n",
    "graph.add_edge('evaluation_score', END)\n",
    "\n",
    "# compile\n",
    "workflow = graph.compile()\n",
    "\n",
    "#\n",
    "graph.compile()"
   ]
  },
  {
   "cell_type": "code",
   "execution_count": 35,
   "id": "e7e067ed",
   "metadata": {},
   "outputs": [],
   "source": [
    "# Execution\n",
    "\n",
    "initial_state = {'title': \"Rise of AI in Finance\"}\n",
    "\n",
    "output = (workflow.invoke(initial_state))"
   ]
  },
  {
   "cell_type": "code",
   "execution_count": 36,
   "id": "1ea1129c",
   "metadata": {},
   "outputs": [
    {
     "data": {
      "text/plain": [
       "dict_keys(['title', 'outline', 'content', 'evaluation_score'])"
      ]
     },
     "execution_count": 36,
     "metadata": {},
     "output_type": "execute_result"
    }
   ],
   "source": [
    "output.keys()"
   ]
  },
  {
   "cell_type": "code",
   "execution_count": 37,
   "id": "cac23b32",
   "metadata": {},
   "outputs": [
    {
     "name": "stdout",
     "output_type": "stream",
     "text": [
      "This is a fantastic challenge! Balancing the understanding and concerns of both kids and the elderly requires a gentle, clear, and reassuring tone, with simple analogies.\n",
      "\n",
      "Here's an outline for a blog post titled \"Rise of AI in Finance\" that aims to be friendly and accessible to both demographics:\n",
      "\n",
      "---\n",
      "\n",
      "## Blog Title: **Smart Money Helpers: How AI is Changing Finance for Everyone!** 🤖💰\n",
      "\n",
      "**(A Friendly Guide for Kids & Grandparents!)**\n",
      "\n",
      "---\n",
      "\n",
      "**I. Introduction: Meet Our New Smart Money Friends!**\n",
      "\n",
      "*   **Hook for Kids:** \"Imagine super-smart robots that can help you count your pocket money faster, or make sure your online game purchases are safe! That's a bit like what AI is doing in the world of money!\"\n",
      "*   **Hook for Elderly:** \"Remember when banking meant long lines and lots of paperwork? Now, many things are simpler and safer, thanks to something called AI. It's like having a very efficient, helpful assistant for your money.\"\n",
      "*   **What We'll Explore:** We'll discover what AI is, how it's making our money safer and easier to manage, and why it's a friendly helper, not something to worry about!\n",
      "\n",
      "**II. What is AI? (The Brainy Buddy!)**\n",
      "\n",
      "*   **Simple Explanation for Kids:** \"AI stands for Artificial Intelligence. Think of it like a super-smart computer brain that learns things, just like you learn at school! It helps computers think and solve problems, like a very clever detective or a super-fast calculator.\"\n",
      "*   **Simple Explanation for Elderly:** \"AI, or Artificial Intelligence, is basically a computer program designed to think and learn from information, helping with tasks that used to take a lot of human effort. It's about making technology smarter and more helpful, like a digital brain.\"\n",
      "*   **Why it Matters for Money:** \"This smart brain is now helping banks and other money places do things better and faster!\"\n",
      "\n",
      "**III. AI's Superpowers in Finance (Making Money Matters Marvelous!)**\n",
      "\n",
      "*   **A. Super-Fast & Smart Decisions:**\n",
      "    *   **For Kids:** \"AI can count money really, really fast! So, when your parents send money, it moves super quick. It's like having a super-fast calculator that never makes mistakes!\"\n",
      "    *   **For Elderly:** \"AI helps banks process transactions quickly and efficiently. This means your payments go through faster, and your money moves smoothly and securely, reducing delays.\"\n",
      "*   **B. Money Detectives (Keeping Your Money Safe!):**\n",
      "    *   **For Kids:** \"It's like having a superhero guard for your piggy bank! If someone tries to take money that isn't theirs, AI can spot it right away and shout, 'Stop! That's not right!'\"\n",
      "    *   **For Elderly:** \"AI is incredibly good at spotting unusual activity in your bank account, like someone trying to use your card without permission. It's a powerful tool against fraud, adding an extra layer of security to your savings.\"\n",
      "*   **C. Your Personal Money Coach:**\n",
      "    *   **For Kids:** \"Imagine an app that helps you save for that cool new toy you really want, giving you tips on how to reach your goal!\"\n",
      "    *   **For Elderly:** \"AI can look at your spending habits and suggest ways to save money, or even help you plan for your retirement, tailored just for you. It's like having a financial advisor available 24/7, offering personalized tips.\"\n",
      "*   **D. Easy-Peasy Banking:**\n",
      "    *   **For Kids:** \"Ever talked to a chatbot on a website that answers your questions? That's often AI! It can help you find out simple things about your pocket money or how to open an account.\"\n",
      "    *   **For Elderly:** \"Many banks now use AI-powered chatbots to answer common questions instantly, without you needing to wait on the phone. This makes getting information or solving simple problems much quicker and easier.\"\n",
      "\n",
      "**IV. Is AI Safe? (Friendly Facts, Not Fears!)**\n",
      "\n",
      "*   **Reassurance for All:** \"It's natural to have questions when something new comes along. But don't worry, AI is designed to help us, and humans are always in charge!\"\n",
      "*   **Jobs (For Elderly, gently):** \"While some jobs might change, AI also creates many *new* kinds of jobs for people who build, manage, and work with these smart systems. It's more about changing roles than taking them away, often making jobs more interesting!\"\n",
      "*   **Privacy & Security (For All):** \"Banks use AI very carefully to protect your secrets and your money. They have super-strong digital locks and guards (like our superhero detective AI!) to keep your information safe. It's like a super-locked treasure chest that only you and the bank can open.\"\n",
      "*   **Humans in Control:** \"Remember, AI is a tool built by people, and people are always watching over it to make sure it does good things.\"\n",
      "\n",
      "**V. What's Next? (The Future is Bright!)**\n",
      "\n",
      "*   **For Kids:** \"Soon, AI might help us learn even more about money in fun ways, or make banks feel like super-cool tech centers! Imagine even smarter apps that help you earn badges for saving money!\"\n",
      "*   **For Elderly:** \"Expect even more personalized services, easier access to financial advice, and even greater security measures. AI will continue to make managing your money simpler and more intuitive, giving you more peace of mind.\"\n",
      "*   **Overall:** \"AI is evolving to make our financial world even more efficient, secure, and accessible for everyone.\"\n",
      "\n",
      "**VI. Conclusion: Our Smart Money Future!**\n",
      "\n",
      "*   **Summary for All:** \"So, AI isn't a scary robot from a movie; it's a helpful tool that makes our money safer, faster, and easier to manage, whether you're saving for a new toy or managing your retirement savings.\"\n",
      "*   **Positive Outlook:** \"It's here to help us all, making the world of finance more friendly and secure for every generation.\"\n",
      "*   **Final Thought:** \"Next time you hear about AI, remember it's a smart friend making our money world better!\"\n",
      "\n",
      "---\n",
      "\n",
      "**Tips for writing the blog post:**\n",
      "\n",
      "*   **Use simple, clear language.** Avoid jargon.\n",
      "*   **Employ relatable analogies.** (Superheroes, detectives, personal assistants, piggy banks).\n",
      "*   **Maintain a positive and reassuring tone.**\n",
      "*   **Use headings and bullet points** for easy readability.\n",
      "*   **Consider adding cheerful emojis or simple illustrations** (like a friendly robot, a piggy bank, a secure lock) if the blog platform allows.\n",
      "*   **Read it aloud** to ensure it flows well and sounds natural for both audiences.\n"
     ]
    }
   ],
   "source": [
    "print(output['outline'])"
   ]
  },
  {
   "cell_type": "code",
   "execution_count": 38,
   "id": "fa414563",
   "metadata": {},
   "outputs": [
    {
     "name": "stdout",
     "output_type": "stream",
     "text": [
      "Here's the detailed blog post based on your excellent outline, crafted to be friendly and accessible for both kids and grandparents!\n",
      "\n",
      "---\n",
      "\n",
      "## Smart Money Helpers: How AI is Changing Finance for Everyone! 🤖💰\n",
      "\n",
      "**(A Friendly Guide for Kids & Grandparents!)**\n",
      "\n",
      "Hello everyone! Have you ever wondered how your pocket money gets safely into your piggy bank, or how your bills get paid so smoothly each month? Well, there's a new, super-smart helper in the world of money, and it's called AI! Let's explore how this clever technology is making our financial lives easier and safer for *everyone*.\n",
      "\n",
      "### I. Introduction: Meet Our New Smart Money Friends!\n",
      "\n",
      "**For Kids:** Imagine super-smart robots that can help you count your pocket money faster, or make sure your online game purchases are safe! That's a bit like what AI is doing in the world of money! It's like having a super helper for your piggy bank.\n",
      "\n",
      "**For Grandparents:** Remember when banking meant long lines, lots of paperwork, and maybe even a trip to the bank every time you needed something? Now, many things are simpler, quicker, and much safer, thanks to something amazing called AI. It's like having a very efficient, helpful assistant for your money, right at your fingertips.\n",
      "\n",
      "In this friendly guide, we'll discover what AI is, how it's making our money safer and easier to manage, and why it's a helpful friend, not something to worry about!\n",
      "\n",
      "### II. What is AI? (The Brainy Buddy!)\n",
      "\n",
      "So, what exactly is this \"AI\" everyone's talking about?\n",
      "\n",
      "**For Kids:** AI stands for Artificial Intelligence. Think of it like a super-smart computer brain that learns things, just like you learn at school! It helps computers think and solve problems, like a very clever detective or a super-fast calculator. It can see patterns, remember things, and make smart guesses based on what it's learned.\n",
      "\n",
      "**For Grandparents:** AI, or Artificial Intelligence, is basically a computer program designed to think and learn from vast amounts of information, helping with tasks that used to take a lot of human effort. It's about making technology smarter and more helpful, like a digital brain that can analyze, predict, and automate. It's not a real person, but it can do many tasks that require intelligence, very quickly.\n",
      "\n",
      "**Why it Matters for Money:** This smart brain is now helping banks and other money places do things better and faster than ever before! It's revolutionizing how we handle our finances.\n",
      "\n",
      "### III. AI's Superpowers in Finance (Making Money Matters Marvelous!)\n",
      "\n",
      "AI has some incredible \"superpowers\" that are transforming the world of finance. Let's look at a few:\n",
      "\n",
      "#### A. Super-Fast & Smart Decisions ⚡\n",
      "\n",
      "**For Kids:** AI can count money really, really fast! So, when your parents send money to someone, or you buy something online, it moves super quick. It's like having a super-fast calculator that never makes mistakes and works 24/7! This means your online game currency arrives faster, or your allowance gets to your account in a blink!\n",
      "\n",
      "**For Grandparents:** AI helps banks process transactions quickly and efficiently, often in real-time. This means your direct deposits arrive faster, your online bill payments go through smoothly, and your money moves securely with minimal delays. No more waiting days for funds to clear!\n",
      "\n",
      "#### B. Money Detectives (Keeping Your Money Safe!) 🕵️‍♀️🔒\n",
      "\n",
      "**For Kids:** This is one of AI's coolest powers! It's like having a superhero guard for your piggy bank. If someone tries to take money that isn't theirs, or use your parents' card in a strange way, AI can spot it right away and shout, \"Stop! That's not right!\" It learns what your usual spending looks like, so it can quickly notice anything out of the ordinary.\n",
      "\n",
      "**For Grandparents:** AI is incredibly good at spotting unusual activity in your bank account, like someone trying to use your card without permission or making a purchase that doesn't fit your usual spending patterns. It's a powerful tool against fraud and scams, adding an extra layer of security to your savings and giving you peace of mind. Many times, your bank knows about suspicious activity before you do, thanks to AI!\n",
      "\n",
      "#### C. Your Personal Money Coach 📈💰\n",
      "\n",
      "**For Kids:** Imagine an app that helps you save for that cool new toy you really want, giving you tips on how to reach your goal! AI can do that. It can show you how much money you have, how much you're spending, and even suggest fun ways to save more for that bicycle or video game.\n",
      "\n",
      "**For Grandparents:** AI can look at your spending habits and suggest ways to save money, help you stick to a budget, or even assist in planning for your retirement, tailored just for you. It's like having a financial advisor available 24/7, offering personalized tips and insights based on your unique financial situation, helping you make smarter choices.\n",
      "\n",
      "#### D. Easy-Peasy Banking 💬📱\n",
      "\n",
      "**For Kids:** Ever talked to a chatbot on a website that answers your questions? That's often AI! It can help you find out simple things about your pocket money, how to open a savings account, or even where to find a nearby bank machine. It's like having a friendly helper ready to answer your questions instantly.\n",
      "\n",
      "**For Grandparents:** Many banks now use AI-powered chatbots and virtual assistants to answer common questions instantly, without you needing to wait on the phone. This makes getting information or solving simple problems much quicker and easier. Whether you need to check your balance, transfer funds, or understand a statement, AI can guide you through it with ease.\n",
      "\n",
      "### IV. Is AI Safe? (Friendly Facts, Not Fears!)\n",
      "\n",
      "It's natural to have questions when something new and powerful comes along. But don't worry, AI is designed to help us, and humans are always in charge!\n",
      "\n",
      "**Jobs (For Grandparents, gently):** While some jobs might change with new technology, AI also creates many *new* kinds of jobs for people who build, manage, and work with these smart systems. Instead of taking jobs away, it often changes roles, making them more interesting and focused on human creativity and problem-solving. Think of it as creating new opportunities!\n",
      "\n",
      "**Privacy & Security (For All):** Banks use AI very carefully to protect your secrets and your money. They have super-strong digital locks and guards (like our superhero detective AI!) to keep your information safe from bad guys. It's like a super-locked treasure chest that only you and the bank can open, with AI adding extra layers of protection. Your privacy is a top priority, and AI helps enforce it.\n",
      "\n",
      "**Humans in Control:** Remember, AI is a tool built by people, and people are always watching over it. Experts carefully program and monitor AI systems to make sure they do good things and follow strict rules. It's like a powerful car – it needs a careful driver!\n",
      "\n",
      "### V. What's Next? (The Future is Bright!)\n",
      "\n",
      "The journey with AI in finance is just beginning!\n",
      "\n",
      "**For Kids:** Soon, AI might help us learn even more about money in fun ways, or make banks feel like super-cool tech centers! Imagine even smarter apps that help you earn badges for saving money, or interactive games that teach you about investing.\n",
      "\n",
      "**For Grandparents:** Expect even more personalized services, easier access to financial advice tailored to your life stage, and even greater security measures. AI will continue to make managing your money simpler, more intuitive, and more accessible, giving you more peace of mind and control over your financial future.\n",
      "\n",
      "**Overall:** AI is evolving to make our financial world even more efficient, secure, and accessible for everyone, no matter their age or tech comfort level.\n",
      "\n",
      "### VI. Conclusion: Our Smart Money Future!\n",
      "\n",
      "So, AI isn't a scary robot from a movie; it's a helpful tool that makes our money safer, faster, and easier to manage, whether you're saving for a new toy or managing your retirement savings.\n",
      "\n",
      "It's here to help us all, making the world of finance more friendly, secure, and understandable for every generation. Next time you hear about AI, remember it's a smart friend making our money world better! 🌟\n"
     ]
    }
   ],
   "source": [
    "print(output['content'])"
   ]
  },
  {
   "cell_type": "code",
   "execution_count": 41,
   "id": "b29ab80c",
   "metadata": {},
   "outputs": [
    {
     "name": "stdout",
     "output_type": "stream",
     "text": [
      "This blog post is truly excellent! It perfectly executes the challenging task of addressing both kids and grandparents in an accessible, friendly, and reassuring way.\n",
      "\n",
      "**Numerical Score: 10/10**\n",
      "\n",
      "Here's why:\n",
      "\n",
      "*   **Exceptional Dual-Audience Approach:** You've masterfully woven in explanations and examples tailored specifically for kids and grandparents in every relevant section. This is the core challenge of the prompt, and you've nailed it consistently without feeling clunky or repetitive.\n",
      "*   **Clear and Relatable Analogies:** The use of \"super-smart robots,\" \"piggy bank,\" \"superhero guard,\" \"money coach,\" \"super-fast calculator,\" and \"super-locked treasure chest\" makes complex concepts incredibly easy to grasp for both demographics.\n",
      "*   **Perfect Tone:** The tone is consistently friendly, reassuring, positive, and informative. It never talks down to either audience and successfully alleviates potential fears about AI.\n",
      "*   **Comprehensive and Well-Structured:** You've followed the provided outline precisely, ensuring all key points are covered logically and thoroughly. The headings and subheadings make it very easy to read and navigate.\n",
      "*   **Addresses Concerns Thoughtfully:** The \"Is AI Safe?\" section is crucial and handled beautifully. The points on jobs, privacy, and human control are explained gently and effectively, providing much-needed reassurance.\n",
      "*   **Engaging Language:** The language is simple, direct, and avoids jargon. Phrases like \"Easy-Peasy Banking\" and \"Making Money Matters Marvelous!\" add a touch of personality and fun.\n",
      "*   **Strong Introduction and Conclusion:** Both effectively set the stage and provide a memorable, positive takeaway.\n",
      "\n",
      "This blog post is a fantastic example of clear, audience-focused communication. Well done!\n"
     ]
    }
   ],
   "source": [
    "print(output['evaluation_score'].content)"
   ]
  },
  {
   "cell_type": "code",
   "execution_count": 19,
   "id": "a05f0424",
   "metadata": {},
   "outputs": [],
   "source": [
    "# had we done this in langChain \n",
    "# we would have got only the output content not the outline :)"
   ]
  },
  {
   "cell_type": "code",
   "execution_count": null,
   "id": "51bfe247",
   "metadata": {},
   "outputs": [],
   "source": []
  }
 ],
 "metadata": {
  "kernelspec": {
   "display_name": "langraph",
   "language": "python",
   "name": "python3"
  },
  "language_info": {
   "codemirror_mode": {
    "name": "ipython",
    "version": 3
   },
   "file_extension": ".py",
   "mimetype": "text/x-python",
   "name": "python",
   "nbconvert_exporter": "python",
   "pygments_lexer": "ipython3",
   "version": "3.11.9"
  }
 },
 "nbformat": 4,
 "nbformat_minor": 5
}
