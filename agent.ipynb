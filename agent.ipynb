{
 "cells": [
  {
   "cell_type": "code",
   "execution_count": null,
   "id": "3ae178b5",
   "metadata": {},
   "outputs": [
    {
     "name": "stdout",
     "output_type": "stream",
     "text": [
      "AI learns by analyzing vast amounts of data to find patterns and relationships. Algorithms process this information, building models that allow the AI to make predictions, solve problems, or perform specific tasks. It essentially teaches itself from examples, improving its accuracy over time.\n"
     ]
    }
   ],
   "source": [
    "import google.generativeai as genai\n",
    "import os\n",
    "\n",
    "os.environ[\"GEMINI_API_KEY\"] = \"**********\"\n",
    "\n",
    "genai.configure(api_key=os.environ[\"GEMINI_API_KEY\"])\n",
    "\n",
    "# Generate content\n",
    "response = genai.GenerativeModel(\"gemini-2.5-flash\").generate_content(\"Explain how AI works in a 50 words\")\n",
    "\n",
    "print(response.text)\n"
   ]
  },
  {
   "cell_type": "code",
   "execution_count": 2,
   "id": "756cdb46",
   "metadata": {},
   "outputs": [],
   "source": [
    "# !pip install -q youtube-transcript-api langchain-community langchain-openai langchain_google_genai faiss-cpu tiktoken python-dotenv\n"
   ]
  },
  {
   "cell_type": "code",
   "execution_count": 3,
   "id": "0ea13060",
   "metadata": {},
   "outputs": [],
   "source": [
    "# pip install pydantic==1.10.13 --force-reinstall  # needed a lower version for langchain\n",
    "\n",
    "# pip install youtube-transcript-api==0.6.1\n"
   ]
  },
  {
   "cell_type": "code",
   "execution_count": 4,
   "id": "26f223da",
   "metadata": {},
   "outputs": [],
   "source": [
    "from youtube_transcript_api import YouTubeTranscriptApi, TranscriptsDisabled\n",
    "from langchain.text_splitter import RecursiveCharacterTextSplitter\n",
    "from langchain_openai import OpenAIEmbeddings, ChatOpenAI\n",
    "\n",
    "from langchain_google_genai import ChatGoogleGenerativeAI, GoogleGenerativeAIEmbeddings\n",
    "\n",
    "from langchain_community.vectorstores import FAISS\n",
    "\n",
    "from langchain_core.prompts import PromptTemplate\n",
    "\n",
    "from langchain.text_splitter import RecursiveCharacterTextSplitter"
   ]
  },
  {
   "cell_type": "markdown",
   "id": "60376312",
   "metadata": {},
   "source": [
    "STEp 1.a) indexing (document ingestion)"
   ]
  },
  {
   "cell_type": "code",
   "execution_count": 5,
   "id": "e695ea96",
   "metadata": {},
   "outputs": [
    {
     "ename": "ParseError",
     "evalue": "no element found: line 1, column 0 (<string>)",
     "output_type": "error",
     "traceback": [
      "Traceback \u001b[1;36m(most recent call last)\u001b[0m:\n",
      "\u001b[0m  File \u001b[0;32mc:\\Users\\Akash Mittal\\anaconda3\\Lib\\site-packages\\IPython\\core\\interactiveshell.py:3577\u001b[0m in \u001b[0;35mrun_code\u001b[0m\n    exec(code_obj, self.user_global_ns, self.user_ns)\u001b[0m\n",
      "\u001b[0m  Cell \u001b[0;32mIn[5], line 4\u001b[0m\n    YouTubeTranscriptApi.get_transcript(video_id, languages=[\"en\"])\u001b[0m\n",
      "\u001b[0m  File \u001b[0;32mc:\\Users\\Akash Mittal\\anaconda3\\Lib\\site-packages\\youtube_transcript_api\\_api.py:137\u001b[0m in \u001b[0;35mget_transcript\u001b[0m\n    return cls.list_transcripts(video_id, proxies, cookies).find_transcript(languages).fetch(preserve_formatting=preserve_formatting)\u001b[0m\n",
      "\u001b[0m  File \u001b[0;32mc:\\Users\\Akash Mittal\\anaconda3\\Lib\\site-packages\\youtube_transcript_api\\_transcripts.py:292\u001b[0m in \u001b[0;35mfetch\u001b[0m\n    return _TranscriptParser(preserve_formatting=preserve_formatting).parse(\u001b[0m\n",
      "\u001b[0m  File \u001b[0;32mc:\\Users\\Akash Mittal\\anaconda3\\Lib\\site-packages\\youtube_transcript_api\\_transcripts.py:358\u001b[0m in \u001b[0;35mparse\u001b[0m\n    for xml_element in ElementTree.fromstring(plain_data)\u001b[0m\n",
      "\u001b[1;36m  File \u001b[1;32mc:\\Users\\Akash Mittal\\anaconda3\\Lib\\xml\\etree\\ElementTree.py:1351\u001b[1;36m in \u001b[1;35mXML\u001b[1;36m\n\u001b[1;33m    return parser.close()\u001b[1;36m\n",
      "\u001b[1;36m  File \u001b[1;32m<string>\u001b[1;36m\u001b[0m\n\u001b[1;31mParseError\u001b[0m\u001b[1;31m:\u001b[0m no element found: line 1, column 0\n"
     ]
    }
   ],
   "source": [
    "# https://www.youtube.com/watch?v=dGby9BH9bMc\n",
    "video_id = \"dGby9BH9bMc\"\n",
    "\n",
    "YouTubeTranscriptApi.get_transcript(video_id, languages=[\"en\"])\n",
    "\n",
    "# try:\n",
    "#     transcript_list = YouTubeTranscriptApi.get_transcript(video_id, languages=[\"en\"])\n",
    "\n",
    "#     transcript = \" \".join(chunk[\"text\"] for chunk in transcript_list)\n",
    "#     print(transcript)\n",
    "\n",
    "# except TranscriptsDisabled:\n",
    "#     print(\"No available captions\")"
   ]
  },
  {
   "cell_type": "code",
   "execution_count": 8,
   "id": "31fff466",
   "metadata": {},
   "outputs": [],
   "source": [
    "# pip install --force-reinstall langchain langchain-core langchain-community\n"
   ]
  },
  {
   "cell_type": "code",
   "execution_count": null,
   "id": "972830e8",
   "metadata": {},
   "outputs": [],
   "source": []
  },
  {
   "cell_type": "code",
   "execution_count": null,
   "id": "5208009d",
   "metadata": {},
   "outputs": [],
   "source": []
  },
  {
   "cell_type": "code",
   "execution_count": null,
   "id": "df34c5cc",
   "metadata": {},
   "outputs": [],
   "source": []
  },
  {
   "cell_type": "code",
   "execution_count": null,
   "id": "18447064",
   "metadata": {},
   "outputs": [],
   "source": []
  },
  {
   "cell_type": "code",
   "execution_count": null,
   "id": "39d9415e",
   "metadata": {},
   "outputs": [],
   "source": []
  },
  {
   "cell_type": "code",
   "execution_count": null,
   "id": "e4b77332",
   "metadata": {},
   "outputs": [],
   "source": []
  },
  {
   "cell_type": "code",
   "execution_count": null,
   "id": "f2a34cbc",
   "metadata": {},
   "outputs": [],
   "source": []
  },
  {
   "cell_type": "code",
   "execution_count": null,
   "id": "004eb960",
   "metadata": {},
   "outputs": [],
   "source": []
  }
 ],
 "metadata": {
  "kernelspec": {
   "display_name": "base",
   "language": "python",
   "name": "python3"
  },
  "language_info": {
   "codemirror_mode": {
    "name": "ipython",
    "version": 3
   },
   "file_extension": ".py",
   "mimetype": "text/x-python",
   "name": "python",
   "nbconvert_exporter": "python",
   "pygments_lexer": "ipython3",
   "version": "3.11.9"
  }
 },
 "nbformat": 4,
 "nbformat_minor": 5
}
